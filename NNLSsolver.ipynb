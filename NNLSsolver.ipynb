{
  "cells": [
    {
      "cell_type": "markdown",
      "metadata": {
        "id": "view-in-github",
        "colab_type": "text"
      },
      "source": [
        "<a href=\"https://colab.research.google.com/github/mohit712319/EECS448Lab10/blob/main/NNLSsolver.ipynb\" target=\"_parent\"><img src=\"https://colab.research.google.com/assets/colab-badge.svg\" alt=\"Open In Colab\"/></a>"
      ]
    },
    {
      "cell_type": "code",
      "execution_count": null,
      "metadata": {
        "colab": {
          "background_save": true,
          "base_uri": "https://localhost:8080/",
          "height": 35
        },
        "id": "NsCmC3jY858a",
        "outputId": "e31582a1-c3a3-4223-d235-9ee3f65d0f9a"
      },
      "outputs": [
        {
          "data": {
            "text/html": [
              "\n",
              "     <input type=\"file\" id=\"files-7238b903-52ba-46bc-8835-39b84d87fa37\" name=\"files[]\" multiple disabled\n",
              "        style=\"border:none\" />\n",
              "     <output id=\"result-7238b903-52ba-46bc-8835-39b84d87fa37\">\n",
              "      Upload widget is only available when the cell has been executed in the\n",
              "      current browser session. Please rerun this cell to enable.\n",
              "      </output>\n",
              "      <script>// Copyright 2017 Google LLC\n",
              "//\n",
              "// Licensed under the Apache License, Version 2.0 (the \"License\");\n",
              "// you may not use this file except in compliance with the License.\n",
              "// You may obtain a copy of the License at\n",
              "//\n",
              "//      http://www.apache.org/licenses/LICENSE-2.0\n",
              "//\n",
              "// Unless required by applicable law or agreed to in writing, software\n",
              "// distributed under the License is distributed on an \"AS IS\" BASIS,\n",
              "// WITHOUT WARRANTIES OR CONDITIONS OF ANY KIND, either express or implied.\n",
              "// See the License for the specific language governing permissions and\n",
              "// limitations under the License.\n",
              "\n",
              "/**\n",
              " * @fileoverview Helpers for google.colab Python module.\n",
              " */\n",
              "(function(scope) {\n",
              "function span(text, styleAttributes = {}) {\n",
              "  const element = document.createElement('span');\n",
              "  element.textContent = text;\n",
              "  for (const key of Object.keys(styleAttributes)) {\n",
              "    element.style[key] = styleAttributes[key];\n",
              "  }\n",
              "  return element;\n",
              "}\n",
              "\n",
              "// Max number of bytes which will be uploaded at a time.\n",
              "const MAX_PAYLOAD_SIZE = 100 * 1024;\n",
              "\n",
              "function _uploadFiles(inputId, outputId) {\n",
              "  const steps = uploadFilesStep(inputId, outputId);\n",
              "  const outputElement = document.getElementById(outputId);\n",
              "  // Cache steps on the outputElement to make it available for the next call\n",
              "  // to uploadFilesContinue from Python.\n",
              "  outputElement.steps = steps;\n",
              "\n",
              "  return _uploadFilesContinue(outputId);\n",
              "}\n",
              "\n",
              "// This is roughly an async generator (not supported in the browser yet),\n",
              "// where there are multiple asynchronous steps and the Python side is going\n",
              "// to poll for completion of each step.\n",
              "// This uses a Promise to block the python side on completion of each step,\n",
              "// then passes the result of the previous step as the input to the next step.\n",
              "function _uploadFilesContinue(outputId) {\n",
              "  const outputElement = document.getElementById(outputId);\n",
              "  const steps = outputElement.steps;\n",
              "\n",
              "  const next = steps.next(outputElement.lastPromiseValue);\n",
              "  return Promise.resolve(next.value.promise).then((value) => {\n",
              "    // Cache the last promise value to make it available to the next\n",
              "    // step of the generator.\n",
              "    outputElement.lastPromiseValue = value;\n",
              "    return next.value.response;\n",
              "  });\n",
              "}\n",
              "\n",
              "/**\n",
              " * Generator function which is called between each async step of the upload\n",
              " * process.\n",
              " * @param {string} inputId Element ID of the input file picker element.\n",
              " * @param {string} outputId Element ID of the output display.\n",
              " * @return {!Iterable<!Object>} Iterable of next steps.\n",
              " */\n",
              "function* uploadFilesStep(inputId, outputId) {\n",
              "  const inputElement = document.getElementById(inputId);\n",
              "  inputElement.disabled = false;\n",
              "\n",
              "  const outputElement = document.getElementById(outputId);\n",
              "  outputElement.innerHTML = '';\n",
              "\n",
              "  const pickedPromise = new Promise((resolve) => {\n",
              "    inputElement.addEventListener('change', (e) => {\n",
              "      resolve(e.target.files);\n",
              "    });\n",
              "  });\n",
              "\n",
              "  const cancel = document.createElement('button');\n",
              "  inputElement.parentElement.appendChild(cancel);\n",
              "  cancel.textContent = 'Cancel upload';\n",
              "  const cancelPromise = new Promise((resolve) => {\n",
              "    cancel.onclick = () => {\n",
              "      resolve(null);\n",
              "    };\n",
              "  });\n",
              "\n",
              "  // Wait for the user to pick the files.\n",
              "  const files = yield {\n",
              "    promise: Promise.race([pickedPromise, cancelPromise]),\n",
              "    response: {\n",
              "      action: 'starting',\n",
              "    }\n",
              "  };\n",
              "\n",
              "  cancel.remove();\n",
              "\n",
              "  // Disable the input element since further picks are not allowed.\n",
              "  inputElement.disabled = true;\n",
              "\n",
              "  if (!files) {\n",
              "    return {\n",
              "      response: {\n",
              "        action: 'complete',\n",
              "      }\n",
              "    };\n",
              "  }\n",
              "\n",
              "  for (const file of files) {\n",
              "    const li = document.createElement('li');\n",
              "    li.append(span(file.name, {fontWeight: 'bold'}));\n",
              "    li.append(span(\n",
              "        `(${file.type || 'n/a'}) - ${file.size} bytes, ` +\n",
              "        `last modified: ${\n",
              "            file.lastModifiedDate ? file.lastModifiedDate.toLocaleDateString() :\n",
              "                                    'n/a'} - `));\n",
              "    const percent = span('0% done');\n",
              "    li.appendChild(percent);\n",
              "\n",
              "    outputElement.appendChild(li);\n",
              "\n",
              "    const fileDataPromise = new Promise((resolve) => {\n",
              "      const reader = new FileReader();\n",
              "      reader.onload = (e) => {\n",
              "        resolve(e.target.result);\n",
              "      };\n",
              "      reader.readAsArrayBuffer(file);\n",
              "    });\n",
              "    // Wait for the data to be ready.\n",
              "    let fileData = yield {\n",
              "      promise: fileDataPromise,\n",
              "      response: {\n",
              "        action: 'continue',\n",
              "      }\n",
              "    };\n",
              "\n",
              "    // Use a chunked sending to avoid message size limits. See b/62115660.\n",
              "    let position = 0;\n",
              "    do {\n",
              "      const length = Math.min(fileData.byteLength - position, MAX_PAYLOAD_SIZE);\n",
              "      const chunk = new Uint8Array(fileData, position, length);\n",
              "      position += length;\n",
              "\n",
              "      const base64 = btoa(String.fromCharCode.apply(null, chunk));\n",
              "      yield {\n",
              "        response: {\n",
              "          action: 'append',\n",
              "          file: file.name,\n",
              "          data: base64,\n",
              "        },\n",
              "      };\n",
              "\n",
              "      let percentDone = fileData.byteLength === 0 ?\n",
              "          100 :\n",
              "          Math.round((position / fileData.byteLength) * 100);\n",
              "      percent.textContent = `${percentDone}% done`;\n",
              "\n",
              "    } while (position < fileData.byteLength);\n",
              "  }\n",
              "\n",
              "  // All done.\n",
              "  yield {\n",
              "    response: {\n",
              "      action: 'complete',\n",
              "    }\n",
              "  };\n",
              "}\n",
              "\n",
              "scope.google = scope.google || {};\n",
              "scope.google.colab = scope.google.colab || {};\n",
              "scope.google.colab._files = {\n",
              "  _uploadFiles,\n",
              "  _uploadFilesContinue,\n",
              "};\n",
              "})(self);\n",
              "</script> "
            ],
            "text/plain": [
              "<IPython.core.display.HTML object>"
            ]
          },
          "metadata": {},
          "output_type": "display_data"
        }
      ],
      "source": [
        "from google.colab import files\n",
        "\n",
        "# Upload the file\n",
        "uploaded = files.upload()"
      ]
    },
    {
      "cell_type": "code",
      "execution_count": null,
      "metadata": {
        "colab": {
          "base_uri": "https://localhost:8080/"
        },
        "id": "8wChjB_z8XAr",
        "outputId": "844ad5b2-e6ff-4dff-9a05-3f8e0afc3174"
      },
      "outputs": [
        {
          "name": "stdout",
          "output_type": "stream",
          "text": [
            "Keys in the .mat file: dict_keys(['__header__', '__version__', '__globals__', 'u_out_x'])\n",
            "Shape of the variable: (7613, 300)\n",
            "Chunk of the data:\n",
            "[[1.49417435 1.49415662 1.49415658 ... 1.49415732 1.49415752 1.49415773]\n",
            " [1.49998177 1.49996368 1.49996501 ... 1.49997442 1.49997632 1.49997748]\n",
            " [1.49094999 1.49088654 1.49084297 ... 1.49075427 1.49076597 1.49078476]\n",
            " ...\n",
            " [0.9174007  0.86938812 0.80742092 ... 0.4755     0.44413207 0.43177124]\n",
            " [0.72629028 0.69902746 0.66170518 ... 0.44119187 0.41831745 0.40759783]\n",
            " [0.63241571 0.61455627 0.58925602 ... 0.40832831 0.3816993  0.36402686]]\n"
          ]
        },
        {
          "data": {
            "text/plain": [
              "False"
            ]
          },
          "execution_count": 11,
          "metadata": {},
          "output_type": "execute_result"
        }
      ],
      "source": [
        "#Data matrix\n",
        "\n",
        "from scipy.io import loadmat\n",
        "\n",
        "data = loadmat('u_out_x1.mat')\n",
        "#data2=loadmat('dof_y_x.mat')\n",
        "# Print all keys in the .mat file\n",
        "print(\"Keys in the .mat file:\", data.keys())\n",
        "#print(\"Keys in the .mat file:\", data2.keys())\n",
        "\n",
        "# Access a specific variable (replace 'variable_name' with the actual key)\n",
        "var = data['u_out_x']\n",
        "#var2=data2['dof_y_x']\n",
        "\n",
        "# Check the shape of the data\n",
        "print(\"Shape of the variable:\", var.shape)\n",
        "#print(\"Shape of the variable2:\", var2.shape)\n",
        "\n",
        "\n",
        "# Print a chunk of the data (e.g., first 10 rows and columns)\n",
        "chunk = var[:3000, :10]  # Adjust the slicing as needed\n",
        "print(\"Chunk of the data:\")\n",
        "print(chunk)\n",
        "\n",
        "\n",
        "def is_positive_definite(matrix):\n",
        "    try:\n",
        "        np.linalg.cholesky(matrix)\n",
        "        return True\n",
        "    except np.linalg.LinAlgError:\n",
        "        return False\n",
        "is_positive_definite(var)"
      ]
    },
    {
      "cell_type": "markdown",
      "metadata": {
        "id": "O9LBvA9twiM9"
      },
      "source": [
        "Current Problem:Selecting subset of columns from full matrix A and C so BC>0 min:||A-BC|| so BC>=0\n",
        "\n",
        "New Problem:Minimize ||S(A-BC)|| so BC>=0\n",
        "\n",
        "Write some helper functions to clean up code and resolve Forbenius norm error\n",
        "Look for faster NNLS solver for mult right side cols>>rows\n",
        "\n",
        "\n",
        "Update:Sketching seems to throw of NNLS solvers even if matrix is same size as random amtrix.\n",
        "\n"
      ]
    },
    {
      "cell_type": "code",
      "source": [
        "from re import X\n",
        "import numpy as np\n",
        "import scipy.linalg as sla\n",
        "from numpy.linalg import norm\n",
        "from sklearn.metrics import r2_score\n",
        "from scipy.linalg import qr,solve_triangular\n",
        "from scipy.optimize import nnls\n",
        "import cvxpy as cp\n",
        "import time\n",
        "\n",
        "rng = np.random.default_rng(123)\n",
        "\n",
        "\n",
        "\n",
        "def reconst(Q,R,d):\n",
        "    lambda_star, _ = nnls(Q.T, d)\n",
        "    y = d - (0.5*(Q.T @ lambda_star))\n",
        "    #y=Q.T@lambda_star\n",
        "    x = solve_triangular(R, y, lower=False)\n",
        "    return(x)\n",
        "\n",
        "m=7000\n",
        "n=300\n",
        "m_small=2000\n",
        "A   = rng.standard_normal(size=(m,n)) # Example data matrix\n",
        "S = rng.standard_normal(size=(m_small,m))\n",
        "A_sketch=S@A\n",
        "m, n = A_sketch.shape\n",
        "\n",
        "b=np.random.rand(m,1)\n",
        "sol,rnorm=nnls(A_sketch,b.flatten())\n",
        "print(np.linalg.norm((A_sketch@sol)-b))\n",
        "\n",
        "# Randomly select k column indices from A\n",
        "k=60\n",
        "col_indices = np.random.choice(n, k, replace=False)\n",
        "B = A[:, col_indices]  # Subset of columns from A\n",
        "B_sketch=S@B\n",
        "start_time = time.time()\n",
        "\n",
        "Q, R = qr(B_sketch, mode='economic')  # A = QR\n",
        "\n",
        "\n",
        "C_star = np.zeros((k, n))\n",
        "\n",
        "\n",
        "for j in range(n):\n",
        "    d =(2*Q.T @ A_sketch[:,j]) # Compute d columns of A behave as b\n",
        "    x_star=reconst(Q,R,d)\n",
        "    C_star[:, j]= x_star\n",
        "\n",
        "\n",
        "\n",
        "A_sketchapprox=B_sketch@C_star\n",
        "error = np.linalg.norm(A_sketch - A_sketchapprox, 'fro')\n",
        "print(f\"Reconstruction error (Frobenius norm): {error:.4f}\")\n",
        "print(f\"Minimum value of B@C: {np.min(np.ravel(B_sketch@C_star))}\")\n",
        "end_time = time.time()\n",
        "#print(end_time-start_time)\n",
        "print(f\"Condition number of sketched A: {np.linalg.cond(A_sketch)}\")\n",
        "\n",
        "\n",
        "\n",
        "\n",
        "\n",
        "\n",
        "\n",
        "\n",
        "\n",
        "#Testing with random matrix of same size as A_sketch\n",
        "# QR decomposition of A\n",
        "A_sketch=np.random.rand(m, n)\n",
        "b=np.random.rand(m,1)\n",
        "sol,rnorm=nnls(A_sketch,b.flatten())\n",
        "print(np.linalg.norm((A_sketch@sol)-b))\n",
        "\n",
        "m, n = A_sketch.shape\n",
        "# Randomly select k column indices from A\n",
        "k=60\n",
        "col_indices = np.random.choice(n, k, replace=False)\n",
        "B_sketch = A_sketch[:, col_indices]  # Subset of columns from A\n",
        "start_time = time.time()\n",
        "\n",
        "Q, R = qr(B_sketch, mode='economic')  # A = QR\n",
        "\n",
        "\n",
        "C_star = np.zeros((k, n))\n",
        "\n",
        "\n",
        "\n",
        "for j in range(n):\n",
        "    d =(2*Q.T @ A_sketch[:,j]) # Compute d columns of A behave as b\n",
        "    x_star=reconst(Q,R,d)\n",
        "    C_star[:, j]= x_star\n",
        "\n",
        "\n",
        "#A_approx = B @ C_star #B is not defined\n",
        "\n",
        "\n",
        "A_sketchapprox=B_sketch@C_star\n",
        "error = np.linalg.norm(A_sketch - A_sketchapprox, 'fro')\n",
        "print(\"Info for random matrix \")\n",
        "print(f\"Reconstruction error (Frobenius norm): {error:.4f}\")\n",
        "print(f\"Minimum value of B@C: {np.min(np.ravel(B_sketch@C_star))}\")\n",
        "end_time = time.time()\n",
        "#print(end_time-start_time)\n",
        "print(f\"Condition number of sketched A: {np.linalg.cond(A_sketch)}\")\n",
        "\n",
        "\n"
      ],
      "metadata": {
        "colab": {
          "base_uri": "https://localhost:8080/"
        },
        "id": "OzCKpOh52AKC",
        "outputId": "00cfedf9-a8c9-4db4-a13a-f632c6b76471"
      },
      "execution_count": null,
      "outputs": [
        {
          "output_type": "stream",
          "name": "stdout",
          "text": [
            "1137.6356875505398\n",
            "Reconstruction error (Frobenius norm): 56787.4298\n",
            "Minimum value of B@C: -360.678066868067\n",
            "Condition number of sketched A: 2.5301304584922435\n",
            "572.5224840143245\n",
            "Info for random matrix \n",
            "Reconstruction error (Frobenius norm): 198.6001\n",
            "Minimum value of B@C: 6.290947759125985e-07\n",
            "Condition number of sketched A: 48.10368977067608\n"
          ]
        }
      ]
    },
    {
      "cell_type": "code",
      "execution_count": null,
      "metadata": {
        "id": "ymd7r98JbAk_"
      },
      "outputs": [],
      "source": [
        "#Try With faster NNLS\n",
        "\n",
        "A_sketch=np.random.rand(1000, 300)\n",
        "m=1000\n",
        "n=300\n",
        "# Randomly select k column indices from A\n",
        "k=60\n",
        "col_indices = np.random.choice(n, k, replace=False)\n",
        "B_sketch = A_sketch[:, col_indices]  # Subset of columns from A\n",
        "start_time = time.time()\n",
        "\n",
        "Q, R = qr(B_sketch, mode='economic')  # A = QR\n",
        "\n",
        "\n",
        "C_star = np.zeros((k, n))\n",
        "\n",
        "\n",
        "\n",
        "for j in range(n):\n",
        "    d =(2*Q.T @ A_sketch[:,j]) # Compute d columns of A behave as b\n",
        "    x_star=reconst(Q,R,d)\n",
        "    C_star[:, j]= x_star\n",
        "\n",
        "\n",
        "A_approx = B @ C_star\n"
      ]
    },
    {
      "cell_type": "markdown",
      "metadata": {
        "id": "z3ZWEU5N6Iss"
      },
      "source": [
        "**Testing Sketches**"
      ]
    },
    {
      "cell_type": "markdown",
      "metadata": {
        "id": "8_FX6tbSFR7c"
      },
      "source": [
        "## Stephen's experiment, Mon Feb 10 2025"
      ]
    },
    {
      "cell_type": "code",
      "execution_count": null,
      "metadata": {
        "id": "fs4SZrm0FT3c"
      },
      "outputs": [],
      "source": [
        "import numpy as np\n",
        "import scipy.linalg as sla\n",
        "from numpy.linalg import norm\n",
        "from sklearn.metrics import r2_score"
      ]
    },
    {
      "cell_type": "code",
      "execution_count": null,
      "metadata": {
        "colab": {
          "base_uri": "https://localhost:8080/"
        },
        "id": "YfaCjUh5FZgg",
        "outputId": "5ca7d462-571c-41ba-f150-f7e54c2fc6c4"
      },
      "outputs": [
        {
          "name": "stdout",
          "output_type": "stream",
          "text": [
            "Basic least squares, relative residual is 9.88e-03 (lower is better)\n",
            "  and R^2 is 0.9999 (higher, i.e., closer to 1, is better)\n"
          ]
        }
      ],
      "source": [
        "rng = np.random.default_rng(123)\n",
        "\n",
        "m   = int(7e3)\n",
        "n   = 300\n",
        "A   = rng.standard_normal(size=(m,n))\n",
        "# We have a random design matrix, but let's not just pick a random RHS, let's pick a RHS associated with some \"xTrue\"\n",
        "xTrue   = rng.standard_normal(size=(n,1))\n",
        "b   = A@xTrue\n",
        "# add a bit of noise\n",
        "b   = b + .01*rng.standard_normal(size=(m,1))*norm(b)/np.sqrt(m)\n",
        "\n",
        "# Alternatively, just pick b randomly, so there might not be any good solution, i.e., rel res is .977, and R^2 is near zero\n",
        "# b   = rng.standard_normal(size=(m,1))\n",
        "\n",
        "relErr  = lambda x : norm(A@x-b) / norm(b) # relative squared error of residual\n",
        "R2      = lambda x : 1 - relErr(x)**2      # \"R^2\" aka https://en.wikipedia.org/wiki/Coefficient_of_determination\n",
        "\n",
        "xLS,res = sla.lstsq(A,b)[:2] # res = norm(A@xLS-b)**2\n",
        "print(f'Basic least squares, relative residual is {relErr(xLS):.2e} (lower is better)')\n",
        "errLS = relErr(xLS)\n",
        "\n",
        "# and some other metrics\n",
        "# R2(xLS), r2_score(b,A@xLS) # equivalent ways to do it\n",
        "print(f'  and R^2 is {R2(xLS):.4f} (higher, i.e., closer to 1, is better)')"
      ]
    },
    {
      "cell_type": "code",
      "execution_count": null,
      "metadata": {
        "colab": {
          "base_uri": "https://localhost:8080/"
        },
        "id": "F5NFDEZgGHRC",
        "outputId": "622a4311-6638-47c9-90d9-dec4adaa89a7"
      },
      "outputs": [
        {
          "name": "stdout",
          "output_type": "stream",
          "text": [
            "Sketched S with m=  100 i.e.   1.4%, rel. resid. is 7.80e-01 i.e. 78.91 fraction of unsketched\n",
            "Sketched S with m=  166 i.e.   2.4%, rel. resid. is 6.58e-01 i.e. 66.65 fraction of unsketched\n",
            "Sketched S with m=  278 i.e.   4.0%, rel. resid. is 2.67e-01 i.e. 27.03 fraction of unsketched\n",
            "Sketched S with m=  464 i.e.   6.6%, rel. resid. is 1.67e-02 i.e. 1.69 fraction of unsketched\n",
            "Sketched S with m=  774 i.e.  11.1%, rel. resid. is 1.22e-02 i.e. 1.23 fraction of unsketched\n",
            "Sketched S with m= 1291 i.e.  18.4%, rel. resid. is 1.11e-02 i.e. 1.13 fraction of unsketched\n",
            "Sketched S with m= 2154 i.e.  30.8%, rel. resid. is 1.06e-02 i.e. 1.08 fraction of unsketched\n",
            "Sketched S with m= 3593 i.e.  51.3%, rel. resid. is 1.03e-02 i.e. 1.04 fraction of unsketched\n",
            "Sketched S with m= 5994 i.e.  85.6%, rel. resid. is 1.02e-02 i.e. 1.03 fraction of unsketched\n",
            "Sketched S with m=10000 i.e. 142.9%, rel. resid. is 1.00e-02 i.e. 1.02 fraction of unsketched\n"
          ]
        }
      ],
      "source": [
        "small_m_list = np.logspace(2,4,10, dtype=int)\n",
        "for m_small in small_m_list:\n",
        "  S         = rng.standard_normal(size=(m_small,m)) # normalization doesn't matter in this context\n",
        "  xSketched = sla.lstsq(S@A,S@b)[0]\n",
        "  err       = relErr(xSketched)\n",
        "  print(f'Sketched S with m={m_small:5d} i.e. {m_small/m*100:5.1f}%, rel. resid. is {err:.2e} i.e. {err/errLS:.2f} fraction of unsketched')"
      ]
    },
    {
      "cell_type": "code",
      "execution_count": null,
      "metadata": {
        "id": "DI6En8vYGv9z",
        "colab": {
          "base_uri": "https://localhost:8080/"
        },
        "outputId": "b4d1f474-7f56-4906-b785-20832cd39ff1"
      },
      "outputs": [
        {
          "output_type": "stream",
          "name": "stdout",
          "text": [
            "1952.0946999168395\n",
            "Basic least squares, relative residual is 1.70e-01 (lower is better)\n",
            "  and R^2 is 0.9712 (higher, i.e., closer to 1, is better)\n",
            "Sketched S with m= 2000 i.e.  28.6%, rel. resid. is 1.72e-01 i.e. 1.02 fraction of unsketched\n"
          ]
        }
      ],
      "source": [
        "from re import X\n",
        "import numpy as np\n",
        "import scipy.linalg as sla\n",
        "from numpy.linalg import norm\n",
        "from sklearn.metrics import r2_score\n",
        "from scipy.linalg import qr,solve_triangular\n",
        "from scipy.optimize import nnls\n",
        "import cvxpy as cp\n",
        "import time\n",
        "\n",
        "rng = np.random.default_rng(123)\n",
        "\n",
        "\n",
        "\n",
        "def reconst(Q,R,d):\n",
        "    lambda_star, _ = nnls(Q.T, d)\n",
        "    y = d - (0.5*(Q.T @ lambda_star))\n",
        "    #y=Q.T@lambda_star\n",
        "    x = solve_triangular(R, y, lower=False)\n",
        "    return(x)\n",
        "\n",
        "\n",
        "\n",
        "m   = int(7e3)\n",
        "n   = 300\n",
        "k=60\n",
        "\n",
        "# Set random seed\n",
        "rng = np.random.default_rng(seed=42)\n",
        "\n",
        "A   = rng.standard_normal(size=(m,n))\n",
        "# We have a random design matrix, but let's not just pick a random RHS, let's pick a RHS associated with some \"xTrue\"\n",
        "col_indices = rng.choice(n, k, replace=False)\n",
        "B = A[:, col_indices]\n",
        "X_true = rng.standard_normal(size=(k, n))\n",
        "A  = B@X_true\n",
        "# Add noise to A(behaving as b)\n",
        "A=A+ 0.01 * rng.standard_normal(size=(m, n)) * np.linalg.norm(A) / np.sqrt(m)\n",
        "\n",
        "X_LS=np.zeros((k,n))\n",
        "relErr = lambda x: np.linalg.norm(A - B @ x, 'fro') / np.linalg.norm(A, 'fro')\n",
        "R2      = lambda x : 1 - relErr(x)**2\n",
        "\n",
        "\n",
        "\n",
        "#Solve least squares problem\n",
        "for j in range(n):\n",
        "  x_col, res, _, _ = sla.lstsq(B, A[:,j])\n",
        "  X_LS[:,j] = x_col.flatten()\n",
        "\n",
        "#print errors\n",
        "print(np.linalg.norm(A - B @ X_LS, 'fro'))\n",
        "print(f'Basic least squares, relative residual is {relErr(X_LS):.2e} (lower is better)')\n",
        "errLS = relErr(X_LS)\n",
        "\n",
        "# and some other metrics\n",
        "print(f'  and R^2 is {R2(X_LS):.4f} (higher, i.e., closer to 1, is better)')\n",
        "\n",
        "\n",
        "\n",
        "\n",
        "\n",
        "\n",
        "m_small=2000\n",
        "S = rng.standard_normal(size=(m_small,m)) # normalization doesn't matter in this context\n",
        "xSketched=np.zeros((k,n))\n",
        "for j in range(n):\n",
        "  x_col, res, _, _ = sla.lstsq(S@B, S@A[:,j])\n",
        "  xSketched[:,j] = x_col.flatten()\n",
        "err    = relErr(xSketched)\n",
        "print(f'Sketched S with m={m_small:5d} i.e. {m_small/m*100:5.1f}%, rel. resid. is {err:.2e} i.e. {err/errLS:.2f} fraction of unsketched')"
      ]
    },
    {
      "cell_type": "code",
      "source": [
        "small_m_list = np.logspace(2,3,10, dtype=int)\n",
        "for m_small in small_m_list:\n",
        "  S         = rng.standard_normal(size=(m_small,m)) # normalization doesn't matter in this context\n",
        "  xSketched=np.zeros((k,n))\n",
        "  for j in range(n):\n",
        "    x_col, res, _, _ = sla.lstsq(S@B, S@A[:,j])\n",
        "    xSketched[:,j] = x_col.flatten()\n",
        "  err    = relErr(xSketched)\n",
        "  print(f'Sketched S with m={m_small:5d} i.e. {m_small/m*100:5.1f}%, rel. resid. is {err:.2e} i.e. {err/errLS:.2f} fraction of unsketched')"
      ],
      "metadata": {
        "colab": {
          "base_uri": "https://localhost:8080/"
        },
        "id": "15xuG3ra5yf4",
        "outputId": "a0e12809-d258-4151-a0e3-24108e0ac172"
      },
      "execution_count": null,
      "outputs": [
        {
          "output_type": "stream",
          "name": "stdout",
          "text": [
            "Sketched S with m=  100 i.e.   1.4%, rel. resid. is 2.83e-01 i.e. 1.66 fraction of unsketched\n",
            "Sketched S with m=  129 i.e.   1.8%, rel. resid. is 2.31e-01 i.e. 1.36 fraction of unsketched\n",
            "Sketched S with m=  166 i.e.   2.4%, rel. resid. is 2.13e-01 i.e. 1.25 fraction of unsketched\n",
            "Sketched S with m=  215 i.e.   3.1%, rel. resid. is 2.00e-01 i.e. 1.18 fraction of unsketched\n",
            "Sketched S with m=  278 i.e.   4.0%, rel. resid. is 1.92e-01 i.e. 1.13 fraction of unsketched\n",
            "Sketched S with m=  359 i.e.   5.1%, rel. resid. is 1.86e-01 i.e. 1.10 fraction of unsketched\n",
            "Sketched S with m=  464 i.e.   6.6%, rel. resid. is 1.82e-01 i.e. 1.07 fraction of unsketched\n",
            "Sketched S with m=  599 i.e.   8.6%, rel. resid. is 1.79e-01 i.e. 1.05 fraction of unsketched\n",
            "Sketched S with m=  774 i.e.  11.1%, rel. resid. is 1.77e-01 i.e. 1.04 fraction of unsketched\n",
            "Sketched S with m= 1000 i.e.  14.3%, rel. resid. is 1.75e-01 i.e. 1.03 fraction of unsketched\n"
          ]
        }
      ]
    },
    {
      "cell_type": "markdown",
      "source": [
        "#Same approach with NNLS"
      ],
      "metadata": {
        "id": "72F0hJ2UDDJ8"
      }
    },
    {
      "cell_type": "code",
      "source": [
        "#Same approach with NNLS\n",
        "from re import X\n",
        "import numpy as np\n",
        "import scipy.linalg as sla\n",
        "from numpy.linalg import norm\n",
        "from sklearn.metrics import r2_score\n",
        "from scipy.linalg import qr,solve_triangular\n",
        "from scipy.optimize import nnls\n",
        "import cvxpy as cp\n",
        "import time\n",
        "\n",
        "rng = np.random.default_rng(123)\n",
        "\n",
        "\n",
        "\n",
        "def reconst(Q,R,d):\n",
        "    lambda_star, _ = nnls(Q.T, d)\n",
        "    y = d - (0.5*(Q.T @ lambda_star))\n",
        "    #y=Q.T@lambda_star\n",
        "    x = solve_triangular(R, y, lower=False)\n",
        "    return(x)\n",
        "\n",
        "\n",
        "\n",
        "m   = int(7e3)\n",
        "n   = 300\n",
        "k=60\n",
        "\n",
        "# Set random seed\n",
        "rng = np.random.default_rng(seed=42)\n",
        "\n",
        "A   = rng.standard_normal(size=(m,n))\n",
        "# We have a random design matrix, but let's not just pick a random RHS, let's pick a RHS associated with some \"xTrue\"\n",
        "col_indices = rng.choice(n, k, replace=False)\n",
        "B = A[:, col_indices]\n",
        "X_true = rng.standard_normal(size=(k, n))\n",
        "A  = B@X_true\n",
        "# Add noise to A(behaving as b)\n",
        "A=A+ 0.01 * rng.standard_normal(size=(m, n)) * np.linalg.norm(A) / np.sqrt(m)\n",
        "\n",
        "X_LS=np.zeros((k,n))\n",
        "relErr = lambda x: np.linalg.norm(A - B @ x, 'fro') / np.linalg.norm(A, 'fro')\n",
        "R2      = lambda x : 1 - relErr(x)**2\n",
        "\n",
        "\n",
        "\n",
        "#Solve least squares problem(NNLS)\n",
        "Q, R = qr(B, mode='economic')  # A = QR\n",
        "\n",
        "\n",
        "\n",
        "for j in range(n):\n",
        "    x_star,_=nnls(B,A[:,j])\n",
        "    X_LS[:, j]= x_star\n",
        "\n",
        "\n",
        "#print errors\n",
        "print(np.linalg.norm(A - B @ X_LS, 'fro'))\n",
        "print(f'Basic least squares, relative residual is {relErr(X_LS):.2e} (lower is better)')\n",
        "errLS = relErr(X_LS)\n",
        "\n",
        "# and some other metrics\n",
        "print(f'  and R^2 is {R2(X_LS):.4f} (higher, i.e., closer to 1, is better)')\n",
        "\n",
        "\n",
        "\n",
        "\n",
        "\n",
        "\n",
        "m_small=2000\n",
        "S = rng.standard_normal(size=(m_small,m)) # normalization doesn't matter in this context\n",
        "xSketched=np.zeros((k,n))\n",
        "for j in range(n):\n",
        "  x_col, res, _, _ = sla.lstsq(S@B, S@A[:,j])\n",
        "  xSketched[:,j] = x_col.flatten()\n",
        "err    = relErr(xSketched)\n",
        "print(f'Sketched S with m={m_small:5d} i.e. {m_small/m*100:5.1f}%, rel. resid. is {err:.2e} i.e. {err/errLS:.2f} fraction of unsketched')\n"
      ],
      "metadata": {
        "colab": {
          "base_uri": "https://localhost:8080/"
        },
        "id": "KuiKvlgACzbs",
        "outputId": "1b08e5ba-9c36-45f2-92a1-cfd671c06095"
      },
      "execution_count": null,
      "outputs": [
        {
          "output_type": "stream",
          "name": "stdout",
          "text": [
            "8234.83332650032\n",
            "Basic least squares, relative residual is 7.17e-01 (lower is better)\n",
            "  and R^2 is 0.4866 (higher, i.e., closer to 1, is better)\n",
            "Sketched S with m= 2000 i.e.  28.6%, rel. resid. is 1.72e-01 i.e. 0.24 fraction of unsketched\n"
          ]
        }
      ]
    },
    {
      "cell_type": "code",
      "source": [
        "small_m_list = np.logspace(2,3,10, dtype=int)\n",
        "for m_small in small_m_list:\n",
        "  S         = rng.standard_normal(size=(m_small,m)) # normalization doesn't matter in this context\n",
        "  xSketched=np.zeros((k,n))\n",
        "  for j in range(n):\n",
        "    x_col, _ = nnls(S@B, S@A[:,j])\n",
        "    xSketched[:,j] = x_col.flatten()\n",
        "  err    = relErr(xSketched)\n",
        "  print(f'Sketched S with m={m_small:5d} i.e. {m_small/m*100:5.1f}%, rel. resid. is {err:.2e} i.e. {err/errLS:.2f} fraction of unsketched')"
      ],
      "metadata": {
        "colab": {
          "base_uri": "https://localhost:8080/"
        },
        "id": "LWZcB8MuC0dW",
        "outputId": "593aedcf-627d-4964-d2b0-0e8043cd9cb8"
      },
      "execution_count": null,
      "outputs": [
        {
          "output_type": "stream",
          "name": "stdout",
          "text": [
            "Sketched S with m=  100 i.e.   1.4%, rel. resid. is 8.40e-01 i.e. 1.17 fraction of unsketched\n",
            "Sketched S with m=  129 i.e.   1.8%, rel. resid. is 8.09e-01 i.e. 1.13 fraction of unsketched\n",
            "Sketched S with m=  166 i.e.   2.4%, rel. resid. is 7.81e-01 i.e. 1.09 fraction of unsketched\n",
            "Sketched S with m=  215 i.e.   3.1%, rel. resid. is 7.73e-01 i.e. 1.08 fraction of unsketched\n",
            "Sketched S with m=  278 i.e.   4.0%, rel. resid. is 7.59e-01 i.e. 1.06 fraction of unsketched\n",
            "Sketched S with m=  359 i.e.   5.1%, rel. resid. is 7.46e-01 i.e. 1.04 fraction of unsketched\n",
            "Sketched S with m=  464 i.e.   6.6%, rel. resid. is 7.37e-01 i.e. 1.03 fraction of unsketched\n",
            "Sketched S with m=  599 i.e.   8.6%, rel. resid. is 7.34e-01 i.e. 1.02 fraction of unsketched\n",
            "Sketched S with m=  774 i.e.  11.1%, rel. resid. is 7.32e-01 i.e. 1.02 fraction of unsketched\n",
            "Sketched S with m= 1000 i.e.  14.3%, rel. resid. is 7.27e-01 i.e. 1.02 fraction of unsketched\n"
          ]
        }
      ]
    }
  ],
  "metadata": {
    "colab": {
      "provenance": [],
      "include_colab_link": true
    },
    "kernelspec": {
      "display_name": "Python 3",
      "name": "python3"
    },
    "language_info": {
      "name": "python"
    }
  },
  "nbformat": 4,
  "nbformat_minor": 0
}